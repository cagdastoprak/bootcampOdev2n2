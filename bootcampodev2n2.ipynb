{
 "cells": [
  {
   "cell_type": "code",
   "execution_count": 1,
   "metadata": {},
   "outputs": [
    {
     "name": "stdout",
     "output_type": "stream",
     "text": [
      "2210.6814074060812\n"
     ]
    }
   ],
   "source": [
    "incad = 0.12\n",
    "invest = 1000\n",
    "time = 7\n",
    "profit = invest*(1+incad)**time\n",
    "print(profit)"
   ]
  },
  {
   "cell_type": "code",
   "execution_count": 16,
   "metadata": {},
   "outputs": [
    {
     "name": "stdout",
     "output_type": "stream",
     "text": [
      "Hafta başında 1000 dolarlık bitcoin aldığımızda günde ortalama %12 kazançla,bir hafta sonunda 1210.68 dolar kazanırdık\n"
     ]
    }
   ],
   "source": [
    "soru2cevap = \"Hafta başında {} dolarlık bitcoin aldığımızda günde ortalama %{} kazançla,bir hafta sonunda {:.2f} dolar kazanırdık\"\n",
    "print(soru2cevap.format(invest,int(incad*100),profit-invest))"
   ]
  },
  {
   "cell_type": "code",
   "execution_count": 17,
   "metadata": {},
   "outputs": [
    {
     "name": "stdout",
     "output_type": "stream",
     "text": [
      "Lütfen Dosya Adını Giriniz :selam\n",
      "selam.py\n"
     ]
    }
   ],
   "source": [
    "docName = input('Lütfen Dosya Adını Giriniz :')\n",
    "print(docName+'.py')"
   ]
  },
  {
   "cell_type": "code",
   "execution_count": null,
   "metadata": {},
   "outputs": [],
   "source": []
  }
 ],
 "metadata": {
  "kernelspec": {
   "display_name": "Python 3",
   "language": "python",
   "name": "python3"
  },
  "language_info": {
   "codemirror_mode": {
    "name": "ipython",
    "version": 3
   },
   "file_extension": ".py",
   "mimetype": "text/x-python",
   "name": "python",
   "nbconvert_exporter": "python",
   "pygments_lexer": "ipython3",
   "version": "3.6.10"
  }
 },
 "nbformat": 4,
 "nbformat_minor": 4
}
